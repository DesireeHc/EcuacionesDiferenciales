{
  "cells": [
    {
      "cell_type": "code",
      "execution_count": null,
      "id": "2bb5ce64",
      "metadata": {
        "id": "2bb5ce64"
      },
      "outputs": [],
      "source": [
        "import matplotlib.pyplot as plt\n",
        "import numpy as np\n",
        "from scipy.integrate import odeint\n",
        "import pylab as pl"
      ]
    },
    {
      "cell_type": "code",
      "execution_count": null,
      "id": "27d177eb",
      "metadata": {
        "id": "27d177eb"
      },
      "outputs": [],
      "source": [
        "# The 2-dimensional linear system.\n",
        "a, b, c, d = 2, 1, 1, 2\n",
        "def dx_dt(x, t):\n",
        "    return [a*x[0] + b*x[1], c*x[0] + d*x[1]]"
      ]
    },
    {
      "cell_type": "code",
      "execution_count": null,
      "id": "3a940a21",
      "metadata": {
        "id": "3a940a21"
      },
      "outputs": [],
      "source": [
        "ts = np.linspace(0, -4, 100)\n",
        "ic = np.linspace(-1, 1, 5)\n",
        "for r in ic:\n",
        "    for s in ic:\n",
        "        x0 = [r, s]\n",
        "        xs = odeint(dx_dt, x0, ts)\n",
        "        plt.plot(xs[:,0], xs[:,1], \"r-\")# Label the axes and set fontsizes.\n",
        "plt.xlabel('x', fontsize=15)\n",
        "plt.ylabel('y', fontsize=15)\n",
        "plt.tick_params(labelsize=15)\n",
        "plt.xlim(-1, 1)\n",
        "plt.ylim(-1, 1)\n",
        "X,Y = np.mgrid[-1:1:10j, -1:1:10j]\n",
        "u = a*X + b*Y\n",
        "v = c*X + d*Y\n",
        "pl.quiver(X, Y, u, v, color = 'b')\n",
        "plt.show()"
      ]
    },
    {
      "cell_type": "code",
      "execution_count": null,
      "id": "80fc9bd2",
      "metadata": {
        "id": "80fc9bd2"
      },
      "outputs": [],
      "source": []
    },
    {
      "cell_type": "code",
      "execution_count": null,
      "id": "94a8a903",
      "metadata": {
        "id": "94a8a903"
      },
      "outputs": [],
      "source": []
    },
    {
      "cell_type": "code",
      "execution_count": null,
      "id": "9f863b53",
      "metadata": {
        "id": "9f863b53"
      },
      "outputs": [],
      "source": [
        "# The 2-dimensional nonlinear system.\n",
        "def dx_dt(x, t):\n",
        "    return [x[1], x[0] * (1 - x[0]**2) + x[1]]"
      ]
    },
    {
      "cell_type": "code",
      "execution_count": null,
      "id": "21d7f206",
      "metadata": {
        "id": "21d7f206"
      },
      "outputs": [],
      "source": [
        "# Trajectories in forward time.\n",
        "ts = np.linspace(0, 10, 500)\n",
        "ic = np.linspace(-3, 3, 6)\n",
        "for r in ic:\n",
        "    for s in ic:\n",
        "        x0 = [r, s]\n",
        "        xs = odeint(dx_dt, x0, ts)\n",
        "        plt.plot(xs[:,0], xs[:,1], \"r-\")\n",
        "# Trajectories in backward time.\n",
        "ts = np.linspace(0, -10, 500)\n",
        "ic = np.linspace(-3, 3, 6)\n",
        "for r in ic:\n",
        "    for s in ic:\n",
        "        x0 = [r, s]\n",
        "        xs = odeint(dx_dt, x0, ts)\n",
        "        plt.plot(xs[:,0], xs[:,1], \"r-\")\n",
        "# Label the axes and set fontsizes.\n",
        "plt.xlabel(\"x\", fontsize=15)\n",
        "plt.ylabel(\"y\", fontsize=15)\n",
        "plt.tick_params(labelsize=15)\n",
        "plt.xlim(-3, 3)\n",
        "plt.ylim(-3, 3);\n",
        "# Plot the vectorfield.\n",
        "X, Y = np.mgrid[-3:3:20j, -3:3:20j]\n",
        "u=Y\n",
        "v=X * (1 - X**2) + Y\n",
        "pl.quiver(X, Y, u, v, color = 'b')\n",
        "plt.show()"
      ]
    },
    {
      "cell_type": "code",
      "execution_count": 1,
      "id": "7a418f07",
      "metadata": {
        "id": "7a418f07",
        "outputId": "5b2cdfe4-2d18-4710-eeeb-4acfa2f8e045",
        "colab": {
          "base_uri": "https://localhost:8080/",
          "height": 220
        }
      },
      "outputs": [
        {
          "output_type": "error",
          "ename": "NameError",
          "evalue": "name 'plt' is not defined",
          "traceback": [
            "\u001b[0;31m---------------------------------------------------------------------------\u001b[0m",
            "\u001b[0;31mNameError\u001b[0m                                 Traceback (most recent call last)",
            "\u001b[0;32m<ipython-input-1-07992be4f5bb>\u001b[0m in \u001b[0;36m<cell line: 2>\u001b[0;34m()\u001b[0m\n\u001b[1;32m      1\u001b[0m \u001b[0;31m# Crear la figura principal y los ejes principales\u001b[0m\u001b[0;34m\u001b[0m\u001b[0;34m\u001b[0m\u001b[0m\n\u001b[0;32m----> 2\u001b[0;31m \u001b[0mfig\u001b[0m\u001b[0;34m,\u001b[0m \u001b[0max_main\u001b[0m \u001b[0;34m=\u001b[0m \u001b[0mplt\u001b[0m\u001b[0;34m.\u001b[0m\u001b[0msubplots\u001b[0m\u001b[0;34m(\u001b[0m\u001b[0;34m)\u001b[0m\u001b[0;34m\u001b[0m\u001b[0;34m\u001b[0m\u001b[0m\n\u001b[0m\u001b[1;32m      3\u001b[0m \u001b[0;34m\u001b[0m\u001b[0m\n\u001b[1;32m      4\u001b[0m \u001b[0;31m# Datos para la gráfica principal\u001b[0m\u001b[0;34m\u001b[0m\u001b[0;34m\u001b[0m\u001b[0m\n\u001b[1;32m      5\u001b[0m \u001b[0;31m#x_main = [1, 2, 3, 4, 5]\u001b[0m\u001b[0;34m\u001b[0m\u001b[0;34m\u001b[0m\u001b[0m\n",
            "\u001b[0;31mNameError\u001b[0m: name 'plt' is not defined"
          ]
        }
      ],
      "source": [
        "# Crear la figura principal y los ejes principales\n",
        "fig, ax_main = plt.subplots()\n",
        "\n",
        "# Datos para la gráfica principal\n",
        "#x_main = [1, 2, 3, 4, 5]\n",
        "#y_main = [10, 15, 7, 10, 5]\n",
        "\n",
        "def f(x):\n",
        "    return x**2/4\n",
        "x= np.linspace(-5,5,100)\n",
        "\n",
        "# Graficar la gráfica principal\n",
        "ax_main.plot(x, f(x))\n",
        "\n",
        "# Crear la primera gráfica secundaria dentro de la gráfica principal\n",
        "inner_width1 = 0.3\n",
        "inner_height1 = 0.3\n",
        "inner_left1 = 0.1\n",
        "inner_bottom1 = 0.6\n",
        "ax_inner1 = fig.add_axes([inner_left1, inner_bottom1, inner_width1, inner_height1])\n",
        "\n",
        "# Datos para la primera gráfica secundaria\n",
        "#x_inner1 = [1, 2, 3, 4, 5]\n",
        "#y_inner1 = [5, 10, 8, 3, 7]\n",
        "\n",
        "grafica(dx_dt)\n",
        "# Graficar la primera gráfica secundaria\n",
        "ax_inner1.plot(x, f(x), color='red')\n",
        "\n",
        "# Crear la segunda gráfica secundaria dentro de la gráfica principal\n",
        "inner_width2 = 0.3\n",
        "inner_height2 = 0.3\n",
        "inner_left2 = 0.6\n",
        "inner_bottom2 = 0.1\n",
        "ax_inner2 = fig.add_axes([inner_left2, inner_bottom2, inner_width2, inner_height2])\n",
        "\n",
        "# Datos para la segunda gráfica secundaria\n",
        "#x_inner2 = [1, 2, 3, 4, 5]\n",
        "#y_inner2 = [3, 6, 9, 12, 15]\n",
        "\n",
        "grafica(dx_dt)\n",
        "# Graficar la segunda gráfica secundaria\n",
        "ax_inner2.plot(x_inner2, y_inner2, color='green')\n",
        "\n",
        "# Crear la tercera gráfica secundaria dentro de la gráfica principal\n",
        "inner_width3 = 0.3\n",
        "inner_height3 = 0.3\n",
        "inner_left3 = 0.6\n",
        "inner_bottom3 = 0.6\n",
        "ax_inner3 = fig.add_axes([inner_left3, inner_bottom3, inner_width3, inner_height3])\n",
        "\n",
        "# Datos para la tercera gráfica secundaria\n",
        "x_inner3 = [1, 2, 3, 4, 5]\n",
        "y_inner3 = [12, 10, 8, 6, 4]\n",
        "\n",
        "# Graficar la tercera gráfica secundaria\n",
        "ax_inner3.plot(x_inner3, y_inner3, color='blue')\n",
        "\n",
        "plt.show()"
      ]
    },
    {
      "cell_type": "code",
      "source": [],
      "metadata": {
        "id": "H9xlnbeZZUHH"
      },
      "id": "H9xlnbeZZUHH",
      "execution_count": null,
      "outputs": []
    }
  ],
  "metadata": {
    "kernelspec": {
      "display_name": "Python 3 (ipykernel)",
      "language": "python",
      "name": "python3"
    },
    "language_info": {
      "codemirror_mode": {
        "name": "ipython",
        "version": 3
      },
      "file_extension": ".py",
      "mimetype": "text/x-python",
      "name": "python",
      "nbconvert_exporter": "python",
      "pygments_lexer": "ipython3",
      "version": "3.7.3"
    },
    "colab": {
      "provenance": []
    }
  },
  "nbformat": 4,
  "nbformat_minor": 5
}