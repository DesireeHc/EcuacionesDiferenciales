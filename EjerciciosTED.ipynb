{
  "nbformat": 4,
  "nbformat_minor": 0,
  "metadata": {
    "colab": {
      "provenance": [],
      "authorship_tag": "ABX9TyN1lrm+no65r0nlYEgeHL0g",
      "include_colab_link": true
    },
    "kernelspec": {
      "name": "python3",
      "display_name": "Python 3"
    },
    "language_info": {
      "name": "python"
    }
  },
  "cells": [
    {
      "cell_type": "markdown",
      "metadata": {
        "id": "view-in-github",
        "colab_type": "text"
      },
      "source": [
        "<a href=\"https://colab.research.google.com/github/DesireeHc/EcuacionesDiferenciales/blob/main/EjerciciosTED.ipynb\" target=\"_parent\"><img src=\"https://colab.research.google.com/assets/colab-badge.svg\" alt=\"Open In Colab\"/></a>"
      ]
    },
    {
      "cell_type": "markdown",
      "source": [
        "# Resolver los sistemas de ecuaciones siguientes:\n",
        "4.1\n",
        "b)\n",
        "$$\\frac{dx_1}{dt} = 2x_1+x_2$$\n",
        "$$\\frac{dx_2}{dt}= 3x_1+2x_2$$\n"
      ],
      "metadata": {
        "id": "1r3Sruys1N9y"
      }
    },
    {
      "cell_type": "code",
      "execution_count": null,
      "metadata": {
        "id": "DPELCSAv07B0"
      },
      "outputs": [],
      "source": [
        "import numpy as np\n",
        "import sympy as sp\n",
        "import matplotlib.pyplot as plt\n",
        "from pylab import *"
      ]
    },
    {
      "cell_type": "code",
      "source": [
        "#A=np.matrix([[2, 1],[3, 2]])"
      ],
      "metadata": {
        "id": "CpFWGZZbZKhj"
      },
      "execution_count": null,
      "outputs": []
    },
    {
      "cell_type": "markdown",
      "source": [],
      "metadata": {
        "id": "onDto1QFu1yl"
      }
    },
    {
      "cell_type": "code",
      "source": [
        "def f1(x1, x2, t):\n",
        "  return (-3*x1+x2)\n",
        "def f2(x1, x2, t):\n",
        "  return(x1-3*x2)"
      ],
      "metadata": {
        "id": "5WnUo9VPZdxc"
      },
      "execution_count": null,
      "outputs": []
    },
    {
      "cell_type": "code",
      "source": [
        "x1, x2=sp.symbols('x1 x2') #¿por que se pone 'x1 x2'?"
      ],
      "metadata": {
        "id": "jhlY455uu4Et"
      },
      "execution_count": null,
      "outputs": []
    },
    {
      "cell_type": "code",
      "source": [
        "pts=sp.solve([2*x1+x2, 3*x1+2*x2],{x1, x2})\n",
        "print(pts)\n",
        "#pts[0]\n",
        "#¿los iguala a cero?"
      ],
      "metadata": {
        "colab": {
          "base_uri": "https://localhost:8080/"
        },
        "id": "PUnseOhUwliU",
        "outputId": "6a83d43d-e974-431f-b4ad-93566f47bc3b"
      },
      "execution_count": null,
      "outputs": [
        {
          "output_type": "stream",
          "name": "stdout",
          "text": [
            "{x1: 0, x2: 0}\n"
          ]
        }
      ]
    },
    {
      "cell_type": "code",
      "source": [
        "X=sp.Matrix([2*x1+x2, 3*x1+2*x2])\n",
        "Y=sp.Matrix([x1, x2])\n",
        "A=X.jacobian(Y)"
      ],
      "metadata": {
        "id": "8-HZn3Xmyiie"
      },
      "execution_count": null,
      "outputs": []
    },
    {
      "cell_type": "code",
      "source": [
        "#A.subs(pts).eigenvectors()"
      ],
      "metadata": {
        "id": "Db5e6bXsyoes"
      },
      "execution_count": null,
      "outputs": []
    },
    {
      "cell_type": "code",
      "source": [
        "#nodos=np.array"
      ],
      "metadata": {
        "id": "g-un9mMnzsrU"
      },
      "execution_count": null,
      "outputs": []
    },
    {
      "cell_type": "code",
      "source": [
        "xlabel('X')\n",
        "ylabel('Y')\n",
        "title('Plano para un sistema de ecuaciones diferenciales')\n",
        "plot('ro')"
      ],
      "metadata": {
        "colab": {
          "base_uri": "https://localhost:8080/",
          "height": 489
        },
        "id": "0Q_gy3ij0FX6",
        "outputId": "ff249cab-7947-4250-a922-2cce19f8f953"
      },
      "execution_count": null,
      "outputs": [
        {
          "output_type": "execute_result",
          "data": {
            "text/plain": [
              "[<matplotlib.lines.Line2D at 0x7d397ec35120>]"
            ]
          },
          "metadata": {},
          "execution_count": 54
        },
        {
          "output_type": "display_data",
          "data": {
            "text/plain": [
              "<Figure size 640x480 with 1 Axes>"
            ],
            "image/png": "[encoded data removed]"
          },
          "metadata": {}
        }
      ]
    },
    {
      "cell_type": "code",
      "source": [],
      "metadata": {
        "id": "mzdvUX800YMA"
      },
      "execution_count": null,
      "outputs": []
    }
  ]
}